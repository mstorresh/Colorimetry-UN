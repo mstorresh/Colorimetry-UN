{
  "nbformat": 4,
  "nbformat_minor": 0,
  "metadata": {
    "colab": {
      "name": "Colorimetria.ipynb",
      "provenance": [],
      "collapsed_sections": []
    },
    "kernelspec": {
      "name": "python3",
      "display_name": "Python 3"
    }
  },
  "cells": [
    {
      "cell_type": "markdown",
      "metadata": {
        "id": "BhLC3Qc-upi-"
      },
      "source": [
        "\n",
        "\n",
        "Se abren las imagenes  ya  recortadas, que solo tengan el color checker, y se tienen en formato TIF\n",
        "\n",
        "Luego se abren estas imágenes, para que sean leídas como matrices, las componentes de estas matrices son los valores de RGB de la imagen, para entenderlo mejor se tiene que imaginar un cubo en donde la cara que se ve al frente es el R y si me paro en cada componente en esa cara me da el valor de R, ahora si voy al fondo de esta cara están los valores de G y B. Estos valores se substraen fácilmente con el comando getpixel.\n",
        "\n",
        "Luego se recorre toda la imagen para conocer los diferentes colores, empezando por el color superior izquierdo y llegando al color inferior derecho. En cada color se para en un pixel que esta cerca del centro y este coge una cantidad de vecinos y se promedia para obtener un valor más general, luego como son varias fotos se hace un promedio total de esos valores de color que se obtiene.\n",
        "\n",
        "Acá se manipulan dos imagenes en formato .JPG, sin embargo el formato .TIF se abre de la misma manera.\n",
        "\n"
      ]
    },
    {
      "cell_type": "markdown",
      "metadata": {
        "id": "0E51JvSRu0yV"
      },
      "source": [
        "#Librerías "
      ]
    },
    {
      "cell_type": "code",
      "metadata": {
        "id": "6vKW1Pf-uPwi",
        "colab": {
          "base_uri": "https://localhost:8080/",
          "height": 343
        },
        "outputId": "29f925c2-0ada-4d32-8b7a-c71504bd785e"
      },
      "source": [
        "# -*- coding: utf-8 -*-\n",
        "from matplotlib import pyplot as plt\n",
        "import numpy as np\n",
        "import scipy.misc as sp\n",
        "from PIL import Image\n",
        "#from IPython.display import Image\n",
        "!pip install rawpy\n",
        "import rawpy\n",
        "!pip install colormath\n",
        "from colormath.color_objects import sRGBColor, LabColor              #Las librerías especiales para comparar colores \n",
        "from colormath.color_conversions import convert_color                # http://hanzratech.in/2015/01/16/color-difference-between-2-colors-using-python.html\n",
        "from colormath.color_diff import delta_e_cie2000"
      ],
      "execution_count": null,
      "outputs": [
        {
          "output_type": "stream",
          "text": [
            "Collecting rawpy\n",
            "\u001b[?25l  Downloading https://files.pythonhosted.org/packages/53/50/13dd9863a3e30b10f15e5abe7c1545db24a78cfe820c342978ae5d87e8c3/rawpy-0.14.0-cp36-cp36m-manylinux2010_x86_64.whl (1.6MB)\n",
            "\u001b[K     |████████████████████████████████| 1.6MB 2.7MB/s \n",
            "\u001b[?25hRequirement already satisfied: numpy in /usr/local/lib/python3.6/dist-packages (from rawpy) (1.18.5)\n",
            "Installing collected packages: rawpy\n",
            "Successfully installed rawpy-0.14.0\n",
            "Collecting colormath\n",
            "  Downloading https://files.pythonhosted.org/packages/ce/cf/70ea34103a76cc6fb1892289bda321cd0cc73b1a5500ee7fe9ef9f64acef/colormath-3.0.0.tar.gz\n",
            "Requirement already satisfied: numpy in /usr/local/lib/python3.6/dist-packages (from colormath) (1.18.5)\n",
            "Requirement already satisfied: networkx>=2.0 in /usr/local/lib/python3.6/dist-packages (from colormath) (2.4)\n",
            "Requirement already satisfied: decorator>=4.3.0 in /usr/local/lib/python3.6/dist-packages (from networkx>=2.0->colormath) (4.4.2)\n",
            "Building wheels for collected packages: colormath\n",
            "  Building wheel for colormath (setup.py) ... \u001b[?25l\u001b[?25hdone\n",
            "  Created wheel for colormath: filename=colormath-3.0.0-cp36-none-any.whl size=39392 sha256=28b66a8f4f5e57fa73ec90843823c72f0d175a18204f6cdaff49394b7e6f3e29\n",
            "  Stored in directory: /root/.cache/pip/wheels/20/49/7b/9635bccd6136cc713f623caa85ced89c0c63878f8b2a58fe99\n",
            "Successfully built colormath\n",
            "Installing collected packages: colormath\n",
            "Successfully installed colormath-3.0.0\n"
          ],
          "name": "stdout"
        }
      ]
    },
    {
      "cell_type": "markdown",
      "metadata": {
        "id": "oFCuVTDkvH34"
      },
      "source": [
        "#Importar imagenes"
      ]
    },
    {
      "cell_type": "code",
      "metadata": {
        "id": "ZwnxIRKZvGOX"
      },
      "source": [
        "from google.colab import files"
      ],
      "execution_count": null,
      "outputs": []
    },
    {
      "cell_type": "code",
      "metadata": {
        "id": "fgSvCwn-vK5X",
        "colab": {
          "resources": {
            "http://localhost:8080/nbextensions/google.colab/files.js": {
              "data": "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",
              "ok": true,
              "headers": [
                [
                  "content-type",
                  "application/javascript"
                ]
              ],
              "status": 200,
              "status_text": ""
            }
          },
          "base_uri": "https://localhost:8080/",
          "height": 106
        },
        "outputId": "44ebfb71-5dfa-41d6-ae1a-6cc52df7fc37"
      },
      "source": [
        "infog = files.upload()"
      ],
      "execution_count": null,
      "outputs": [
        {
          "output_type": "display_data",
          "data": {
            "text/html": [
              "\n",
              "     <input type=\"file\" id=\"files-07ace724-0d44-4a1b-8497-53632da9c3a4\" name=\"files[]\" multiple disabled\n",
              "        style=\"border:none\" />\n",
              "     <output id=\"result-07ace724-0d44-4a1b-8497-53632da9c3a4\">\n",
              "      Upload widget is only available when the cell has been executed in the\n",
              "      current browser session. Please rerun this cell to enable.\n",
              "      </output>\n",
              "      <script src=\"/nbextensions/google.colab/files.js\"></script> "
            ],
            "text/plain": [
              "<IPython.core.display.HTML object>"
            ]
          },
          "metadata": {
            "tags": []
          }
        },
        {
          "output_type": "stream",
          "text": [
            "Saving prueba1.png to prueba1.png\n",
            "Saving prueba2.png to prueba2.png\n"
          ],
          "name": "stdout"
        }
      ]
    },
    {
      "cell_type": "markdown",
      "metadata": {
        "id": "Ch-Y5C6RggA8"
      },
      "source": [
        "#Calibrar imágenes\n",
        "Codigo que reescala las imágenes. Esto quiere decir que ya se pueden unificar las coordendas y no toca hacer eso manual. Sin embargo, las imagenes trabajadas acá, ya deben estar recortadas, de tal manera que solo quede el ColorChecker."
      ]
    },
    {
      "cell_type": "code",
      "metadata": {
        "id": "9iZ8_sOoguhw"
      },
      "source": [
        "'''\n",
        "https://gist.github.com/tomvon/ae288482869b495201a0\n",
        "'''\n",
        "\n",
        "png1 = Image.open('prueba1.png')#imagen cortada\n",
        "png2 = Image.open('prueba2.png')\n",
        "\n",
        "\n",
        "mywidth = 4700 #tamano luego de cortar la imagen 4700 × 3332\n",
        "\n",
        "wpercent1 = (mywidth/float(png1.size[0]))\n",
        "hsize1 = int((float(png1.size[1])*float(wpercent1)))\n",
        "png1 = png1.resize((mywidth,hsize1))\n",
        "png1.save('prueba11r.png')#imagen calibrada\n",
        "\n",
        "\n",
        "wpercent2 = (mywidth/float(png2.size[0]))\n",
        "hsize2 = int((float(png2.size[1])*float(wpercent2)))\n",
        "png2 = png2.resize((mywidth,hsize2))\n",
        "png2.save('prueba22r.png')"
      ],
      "execution_count": null,
      "outputs": []
    },
    {
      "cell_type": "markdown",
      "metadata": {
        "id": "vPVsC_F_vYAq"
      },
      "source": [
        "#Código del análisis de las fotos"
      ]
    },
    {
      "cell_type": "code",
      "metadata": {
        "id": "TsBoFzAovXnk"
      },
      "source": [
        "png1 = Image.open('prueba11r.png')#imagenes ya cortadas y calibradas\n",
        "png2 = Image.open('prueba22r.png')\n",
        "\n",
        "\n",
        "unitlenght = 770 #distancia entre centros\n",
        "lst1, lst2 = [], [] #definir lista donde se van a poner las tripletas de rgb de cada foto\n",
        "l1, l2 = [], [] # listas para guardar los valores rgb de cada foto y luego compararlos, para obtener el promedio general\n",
        "\n",
        "for j in range (0,4,1): #corre por cada fila (4 en total)\n",
        "    for i in range (0,6,1): #corre por cada columna (6 en total) para 24 cuadros\n",
        "        lenght = unitlenght*i #distancia entre centro 0 y centro cuadro i\n",
        "        for a in range (430, 490, 5): #definir coordenadas columna cuadro 0\n",
        "            a1 = a+lenght #correr horizontalmente del cuadro 0 -->\n",
        "            for b in range(430+j*unitlenght,490+j*unitlenght,5): #definir coordenada fila cuadro 0 y correr verticalmente (abajo)\n",
        "                lst1.append(png1.getpixel((a1,b))) #llenar lista con las tripletas (tuples) rgb\n",
        "                lst2.append(png2.getpixel((a1,b)))\n",
        "        #print(lst)\n",
        "        mean1=list(np.mean(lst1, axis=0)) #promediar la lista\n",
        "        mean2=list(np.mean(lst2,axis=0))\n",
        "        #print('El promedio rgb041 de %d es:'%(i+j*6), mean1, a1,b) #imprime promedio y ultimas coordenadas para saber si si esta en el lugar correcto\n",
        "        #print('El promedio rgb038 de %d es:'%(i+j*6), mean2, a1,b)\n",
        "        l1.append(mean1)\n",
        "        l2.append(mean2)\n",
        "        lst1.clear() #limpiar la lista para el siguiente cuadro\n",
        "        lst2.clear()"
      ],
      "execution_count": null,
      "outputs": []
    },
    {
      "cell_type": "markdown",
      "metadata": {
        "id": "rJkX9LT5v7gt"
      },
      "source": [
        "Valor teórico obtenido en wikipedia https://en.wikipedia.org/wiki/ColorChecker"
      ]
    },
    {
      "cell_type": "code",
      "metadata": {
        "id": "vbq3FljUwCfF"
      },
      "source": [
        "teorico = [[115,82,68],[194,150,130], [98,122,157],[87,108,67],[133,128,177],[103,189,170],[214,126,44],[80,91,166],[193,90,99],[94,60,108],[157,188,64],[224,163,46],[56,61,150],[70,148,73],[175,54,60],[231,199,31],[187,86,149],[8,133,161],[243,243,242],[200,200,200],[160,160,160],[122,122,121],[85,85,85],[52,52,52]]"
      ],
      "execution_count": null,
      "outputs": []
    },
    {
      "cell_type": "markdown",
      "metadata": {
        "id": "edbXQweCwqt0"
      },
      "source": [
        "Definir a gran lista donde se guarda el promedio de las tripletas de cada color"
      ]
    },
    {
      "cell_type": "code",
      "metadata": {
        "id": "YTysA5CUwsIi"
      },
      "source": [
        "filelist0,filelist1,filelist2, filelist3, filelist4, filelist5, filelist6, filelist7, filelist8, filelist9, filelist10, filelist11, filelist12, filelist13, filelist14, filelist15, filelist16, filelist17, filelist18, filelist19, filelist20, filelist21, filelist22, filelist23= [],[],[],[],[],[],[],[],[],[],[],[],[],[],[],[],[],[],[],[],[],[],[],[]\n",
        "\n",
        "filelists = [filelist0,filelist1, filelist2, filelist3, filelist4, filelist5, filelist6, filelist7, filelist8, filelist9, filelist10, filelist11, filelist12, filelist13, filelist14, filelist15, filelist16, filelist17, filelist18, filelist19, filelist20, filelist21, filelist22, filelist23]"
      ],
      "execution_count": null,
      "outputs": []
    },
    {
      "cell_type": "markdown",
      "metadata": {
        "id": "pZMrbysjxlPY"
      },
      "source": [
        "Calcula los promedios de todas las imágenes"
      ]
    },
    {
      "cell_type": "code",
      "metadata": {
        "id": "nhEzsRYxxl3-",
        "colab": {
          "base_uri": "https://localhost:8080/",
          "height": 442
        },
        "outputId": "88f48103-f369-48c7-a9d0-a2de70a820bb"
      },
      "source": [
        "print('[RGB promedio] [RGB teórico]')\n",
        "subt = []\n",
        "for i in range(len(l1)):\n",
        "    subt.append(l1[i]) # agrega el elemento i a la lista l1 para luego comparar con el de la lista l2 \n",
        "    subt.append(l2[i])\n",
        "    mean = list(np.mean(subt, axis=0)) # promedio entre los rgb de todas las imagenes\n",
        "    filelists[i].append(mean)\n",
        "    print('El promedio de todas las imagenes para el color %d es:'%i, [int(round(filelists[i][0][0])),int(round(filelists[i][0][1])), int(round(filelists[i][0][2]))], [teorico[i][0],teorico[i][1],teorico[i][2]])\n",
        "    subt.clear()    "
      ],
      "execution_count": null,
      "outputs": [
        {
          "output_type": "stream",
          "text": [
            "[RGB promedio] [RGB teórico]\n",
            "El promedio de todas las imagenes para el color 0 es: [179, 90, 61] [115, 82, 68]\n",
            "El promedio de todas las imagenes para el color 1 es: [228, 213, 206] [194, 150, 130]\n",
            "El promedio de todas las imagenes para el color 2 es: [161, 165, 190] [98, 122, 157]\n",
            "El promedio de todas las imagenes para el color 3 es: [137, 150, 35] [87, 108, 67]\n",
            "El promedio de todas las imagenes para el color 4 es: [226, 213, 232] [133, 128, 177]\n",
            "El promedio de todas las imagenes para el color 5 es: [240, 243, 241] [103, 189, 170]\n",
            "El promedio de todas las imagenes para el color 6 es: [214, 146, 2] [214, 126, 44]\n",
            "El promedio de todas las imagenes para el color 7 es: [79, 87, 165] [80, 91, 166]\n",
            "El promedio de todas las imagenes para el color 8 es: [205, 108, 132] [193, 90, 99]\n",
            "El promedio de todas las imagenes para el color 9 es: [106, 18, 114] [94, 60, 108]\n",
            "El promedio de todas las imagenes para el color 10 es: [220, 224, 163] [157, 188, 64]\n",
            "El promedio de todas las imagenes para el color 11 es: [222, 191, 3] [224, 163, 46]\n",
            "El promedio de todas las imagenes para el color 12 es: [17, 17, 120] [56, 61, 150]\n",
            "El promedio de todas las imagenes para el color 13 es: [91, 150, 60] [70, 148, 73]\n",
            "El promedio de todas las imagenes para el color 14 es: [176, 49, 56] [175, 54, 60]\n",
            "El promedio de todas las imagenes para el color 15 es: [194, 186, 79] [231, 199, 31]\n",
            "El promedio de todas las imagenes para el color 16 es: [190, 109, 160] [187, 86, 149]\n",
            "El promedio de todas las imagenes para el color 17 es: [77, 139, 172] [8, 133, 161]\n",
            "El promedio de todas las imagenes para el color 18 es: [165, 162, 157] [243, 243, 242]\n",
            "El promedio de todas las imagenes para el color 19 es: [171, 166, 163] [200, 200, 200]\n",
            "El promedio de todas las imagenes para el color 20 es: [169, 164, 164] [160, 160, 160]\n",
            "El promedio de todas las imagenes para el color 21 es: [152, 143, 145] [122, 122, 121]\n",
            "El promedio de todas las imagenes para el color 22 es: [68, 64, 72] [85, 85, 85]\n",
            "El promedio de todas las imagenes para el color 23 es: [29, 23, 26] [52, 52, 52]\n"
          ],
          "name": "stdout"
        }
      ]
    },
    {
      "cell_type": "markdown",
      "metadata": {
        "id": "UH3kW78ExwjU"
      },
      "source": [
        "Para el error vamos a analizar el archivo original que se tomó para imprimir el *ColorChecker* en [https://www.xrite.com/categories/calibration-profiling/colorchecker-classic](https://www.xrite.com/categories/calibration-profiling/colorchecker-classic)"
      ]
    },
    {
      "cell_type": "code",
      "metadata": {
        "id": "0aMDiLKCiBnD",
        "colab": {
          "resources": {
            "http://localhost:8080/nbextensions/google.colab/files.js": {
              "data": "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",
              "ok": true,
              "headers": [
                [
                  "content-type",
                  "application/javascript"
                ]
              ],
              "status": 200,
              "status_text": ""
            }
          },
          "base_uri": "https://localhost:8080/",
          "height": 72
        },
        "outputId": "4a6171d3-739d-479a-e9b5-4b29a5ae0cbe"
      },
      "source": [
        "infog = files.upload()"
      ],
      "execution_count": null,
      "outputs": [
        {
          "output_type": "display_data",
          "data": {
            "text/html": [
              "\n",
              "     <input type=\"file\" id=\"files-cc13d8d3-46b4-4a4e-a24a-20fd7eec5f1f\" name=\"files[]\" multiple disabled\n",
              "        style=\"border:none\" />\n",
              "     <output id=\"result-cc13d8d3-46b4-4a4e-a24a-20fd7eec5f1f\">\n",
              "      Upload widget is only available when the cell has been executed in the\n",
              "      current browser session. Please rerun this cell to enable.\n",
              "      </output>\n",
              "      <script src=\"/nbextensions/google.colab/files.js\"></script> "
            ],
            "text/plain": [
              "<IPython.core.display.HTML object>"
            ]
          },
          "metadata": {
            "tags": []
          }
        },
        {
          "output_type": "stream",
          "text": [
            "Saving colorchecker-classic_01.png to colorchecker-classic_01.png\n"
          ],
          "name": "stdout"
        }
      ]
    },
    {
      "cell_type": "code",
      "metadata": {
        "id": "siwr8Aqexv-1"
      },
      "source": [
        "imgcc = Image.open('colorchecker-classic_01.png')#imagenes ya cortadas y calibradas\n",
        "#png = Image.open('prueba.png')\n",
        "\n",
        "unitlenght = 70 #distancia entre centros\n",
        "lstcc= [] # listas para guardar los valores rgb y luego compararlos, para obtener el promedio general\n",
        "lcc = []\n",
        "\n",
        "for j in range (0,4,1): #corre por cada fila (4 en total)\n",
        "    for i in range (0,6,1): #corre por cada columna (6 en total) para 24 cuadros\n",
        "        lenght = unitlenght*i #distancia entre centro 0 y centro cuadro i\n",
        "        for a in range (33, 53, 2): #definir coordenadas columna cuadro 0\n",
        "            a1 = a+lenght #correr horizontalmente del cuadro 0 -->\n",
        "            for b in range(39+j*unitlenght,59+j*unitlenght,2): #definir coordenada fila cuadro 0 y correr verticalmente (abajo)\n",
        "                lstcc.append(imgcc.getpixel((a1,b)))\n",
        "        meancc=list(np.mean(lstcc, axis=0)) #promediar la lista\n",
        "        lcc.append(meancc)\n",
        "        lstcc.clear() #limpiar la lista para el siguiente cuadro\n",
        "\n",
        "#print(lcc[1][0])\n",
        "#for i in range(len(lcc)):\n",
        "    #print('El promedio rgbcc de %d es:'%i,[int(round(lcc[i][0])),int(round(lcc[i][1])), int(round(lcc[i][2]))], [teorico[i][0],teorico[i][1],teorico[i][2]])"
      ],
      "execution_count": null,
      "outputs": []
    },
    {
      "cell_type": "markdown",
      "metadata": {
        "id": "k-CgfBGT0WDX"
      },
      "source": [
        "#Comparación de colores \n",
        "Los errores se expresan con el valor de wikipedia, el de la imagen original y el de las fotos (el experimental)"
      ]
    },
    {
      "cell_type": "code",
      "metadata": {
        "id": "QFeyRsY20gSQ",
        "colab": {
          "base_uri": "https://localhost:8080/",
          "height": 442
        },
        "outputId": "2901e56b-e474-4e8a-a1c6-536b73a8ebed"
      },
      "source": [
        "print ('Color  : \\t Teorico-Experimental \\t Teorico-Descarga \\t Experimental-Descarga')\n",
        "for i in range(0,24):\n",
        "    Real = sRGBColor(teorico[i][0]/255,teorico[i][1]/255,teorico[i][2]/255)\n",
        "    CIEReal = convert_color(Real, LabColor)\n",
        "    RGB = sRGBColor(int(round(filelists[i][0][0]))/255,int(round(filelists[i][0][1]))/255,int(round(filelists[i][0][2]))/255)\n",
        "    CIE = convert_color(RGB, LabColor)\n",
        "    delta_e = delta_e_cie2000(CIEReal, CIE);\n",
        "    #print('La diferencia para el color %i de wikipedia y datos experimentales = ' %i, delta_e)\n",
        "    RGBcc = sRGBColor(int(round(lcc[i][0]))/255,int(round(lcc[i][1]))/255,int(round(lcc[i][2]))/255)\n",
        "    CIEcc = convert_color(RGBcc, LabColor)\n",
        "    delta_ecc = delta_e_cie2000(CIEReal, CIEcc);\n",
        "    #print('La diferencia para el color %i de wikipedia e imagen descargada = ' %i, delta_ecc)\n",
        "    delta_eccexp = delta_e_cie2000(CIE,CIEcc);\n",
        "    #print('La diferencia para el color %i con datos experimental e imagen descargada es = ' %i, delta_eccexp)\n",
        "    print ('Color %i: \\t %f \\t\\t %f \\t\\t %f' %(i, delta_e, delta_ecc, delta_eccexp))"
      ],
      "execution_count": null,
      "outputs": [
        {
          "output_type": "stream",
          "text": [
            "Color  : \t Teorico-Experimental \t Teorico-Descarga \t Experimental-Descarga\n",
            "Color 0: \t 15.499157 \t\t 15.464878 \t\t 2.626760\n",
            "Color 1: \t 18.101182 \t\t 16.388891 \t\t 7.868099\n",
            "Color 2: \t 17.260334 \t\t 19.102394 \t\t 9.916648\n",
            "Color 3: \t 20.971199 \t\t 17.225893 \t\t 7.307137\n",
            "Color 4: \t 25.948843 \t\t 20.260887 \t\t 8.094493\n",
            "Color 5: \t 26.211357 \t\t 15.659697 \t\t 14.883034\n",
            "Color 6: \t 10.774519 \t\t 8.532032 \t\t 10.897552\n",
            "Color 7: \t 1.371259 \t\t 16.873100 \t\t 18.071328\n",
            "Color 8: \t 8.376856 \t\t 14.542249 \t\t 10.255724\n",
            "Color 9: \t 10.011960 \t\t 11.242073 \t\t 2.331936\n",
            "Color 10: \t 15.168603 \t\t 12.568130 \t\t 14.594694\n",
            "Color 11: \t 12.000126 \t\t 8.555413 \t\t 8.698805\n",
            "Color 12: \t 11.983831 \t\t 8.692233 \t\t 13.067881\n",
            "Color 13: \t 4.584816 \t\t 19.923941 \t\t 19.676328\n",
            "Color 14: \t 0.978985 \t\t 15.988307 \t\t 15.801255\n",
            "Color 15: \t 9.303652 \t\t 7.296129 \t\t 14.206557\n",
            "Color 16: \t 6.010235 \t\t 18.358030 \t\t 13.934045\n",
            "Color 17: \t 6.931295 \t\t 18.968061 \t\t 16.708757\n",
            "Color 18: \t 20.004739 \t\t 1.353932 \t\t 21.259392\n",
            "Color 19: \t 9.329130 \t\t 9.088422 \t\t 18.134708\n",
            "Color 20: \t 3.022965 \t\t 16.340892 \t\t 15.058450\n",
            "Color 21: \t 9.986504 \t\t 18.763592 \t\t 10.588708\n",
            "Color 22: \t 8.860117 \t\t 4.943238 \t\t 10.426102\n",
            "Color 23: \t 9.999350 \t\t 13.124027 \t\t 5.526406\n"
          ],
          "name": "stdout"
        }
      ]
    },
    {
      "cell_type": "code",
      "metadata": {
        "id": "UOCBFoF-iUom"
      },
      "source": [
        ""
      ],
      "execution_count": null,
      "outputs": []
    }
  ]
}